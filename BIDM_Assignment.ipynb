{
  "nbformat": 4,
  "nbformat_minor": 0,
  "metadata": {
    "colab": {
      "provenance": [],
      "mount_file_id": "1r-px44ivsOyq4ItZ0wn2YA2P_tKRkVlK",
      "authorship_tag": "ABX9TyPFJBCefu6lYAyvC25pzbdO",
      "include_colab_link": true
    },
    "kernelspec": {
      "name": "python3",
      "display_name": "Python 3"
    },
    "language_info": {
      "name": "python"
    }
  },
  "cells": [
    {
      "cell_type": "markdown",
      "metadata": {
        "id": "view-in-github",
        "colab_type": "text"
      },
      "source": [
        "<a href=\"https://colab.research.google.com/github/MDA1422/BIDM_Tasks/blob/main/BIDM_Assignment.ipynb\" target=\"_parent\"><img src=\"https://colab.research.google.com/assets/colab-badge.svg\" alt=\"Open In Colab\"/></a>"
      ]
    },
    {
      "cell_type": "markdown",
      "source": [
        "# **Task 1**"
      ],
      "metadata": {
        "id": "fNyTheFxFwi9"
      }
    },
    {
      "cell_type": "markdown",
      "source": [
        "Find Missing Values"
      ],
      "metadata": {
        "id": "s24DFHUuFstc"
      }
    },
    {
      "source": [
        "import pandas as pd\n",
        "import os\n",
        "\n",
        "datasets_path = '/content/drive/MyDrive/olist_data'\n",
        "\n",
        "# Create an empty dictionary to store the dataframes\n",
        "dataframes = {}\n",
        "for filename in os.listdir(datasets_path):\n",
        "    if filename.endswith('.csv'):\n",
        "        file_path = os.path.join(datasets_path, filename)\n",
        "\n",
        "        # Read the CSV file into a pandas DataFrame, specifying the encoding\n",
        "        # Try 'latin-1' or 'ISO-8859-1' if 'utf-8' doesn't work\n",
        "        df = pd.read_csv(file_path, encoding='latin-1')\n",
        "\n",
        "        # Check for missing values\n",
        "        missing_values = df.isnull().sum().sum()\n",
        "\n",
        "        if missing_values > 0:\n",
        "            print(f'{filename} has {missing_values} missing values.')\n",
        "        else:\n",
        "            print(f'{filename} has no missing values.')"
      ],
      "cell_type": "code",
      "metadata": {
        "colab": {
          "base_uri": "https://localhost:8080/"
        },
        "id": "4LGzh8x3FFoT",
        "outputId": "9e608eb8-6318-41f3-ad73-261c5efa40fb"
      },
      "execution_count": 3,
      "outputs": [
        {
          "output_type": "stream",
          "name": "stdout",
          "text": [
            "olist_customers_dataset.csv has no missing values.\n",
            "olist_geolocation_dataset.csv has no missing values.\n",
            "olist_order_payments_dataset.csv has no missing values.\n",
            "olist_order_items_dataset.csv has no missing values.\n",
            "olist_orders_dataset.csv has 4908 missing values.\n",
            "olist_products_dataset.csv has 2448 missing values.\n",
            "olist_sellers_dataset.csv has no missing values.\n",
            "product_category_name_translation.csv has no missing values.\n",
            "olist_order_reviews_dataset.csv has 146542 missing values.\n"
          ]
        }
      ]
    }
  ]
}